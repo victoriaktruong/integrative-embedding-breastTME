{
  "nbformat": 4,
  "nbformat_minor": 0,
  "metadata": {
    "colab": {
      "provenance": [],
      "machine_shape": "hm",
      "gpuType": "L4",
      "authorship_tag": "ABX9TyPVDZMLESNvL0uGP6Tu4SI+",
      "include_colab_link": true
    },
    "kernelspec": {
      "name": "python3",
      "display_name": "Python 3"
    },
    "language_info": {
      "name": "python"
    },
    "accelerator": "GPU"
  },
  "cells": [
    {
      "cell_type": "markdown",
      "metadata": {
        "id": "view-in-github",
        "colab_type": "text"
      },
      "source": [
        "<a href=\"https://colab.research.google.com/github/victoriaktruong/scMIXE/blob/main/scGPT_embeddings.ipynb\" target=\"_parent\"><img src=\"https://colab.research.google.com/assets/colab-badge.svg\" alt=\"Open In Colab\"/></a>"
      ]
    },
    {
      "cell_type": "markdown",
      "source": [
        "This script preprocesses the primary breast tumor dataset from [Xu et al. (2024)](https://www.cell.com/cell-reports-medicine/fulltext/S2666-3791%2824%2900180-0), which contains 236,363 cells.\n",
        "The preprocessed data is stored in an AnnData object, which is then used to generate  cell embeddings using [scGPT](https://github.com/bowang-lab/scGPT).\n",
        "\n",
        "The code was run using **L4 GPU** (Colab Pro)."
      ],
      "metadata": {
        "id": "6EA54OYfleGN"
      }
    },
    {
      "cell_type": "code",
      "source": [
        "from google.colab import drive\n",
        "drive.mount('/content/drive')"
      ],
      "metadata": {
        "colab": {
          "base_uri": "https://localhost:8080/"
        },
        "id": "kgLg76F5LGUt",
        "outputId": "df56853d-d852-4c33-948e-cc6ba79919a4"
      },
      "execution_count": 2,
      "outputs": [
        {
          "output_type": "stream",
          "name": "stdout",
          "text": [
            "Mounted at /content/drive\n"
          ]
        }
      ]
    },
    {
      "cell_type": "markdown",
      "source": [
        "# Preprocessing"
      ],
      "metadata": {
        "id": "jmoc1U5mlibU"
      }
    },
    {
      "cell_type": "code",
      "execution_count": 3,
      "metadata": {
        "id": "5jUK5kbCJLTu"
      },
      "outputs": [],
      "source": [
        "# Import libraries\n",
        "!pip install scanpy --quiet\n",
        "\n",
        "import scanpy as sc\n",
        "from scipy.io import mmread\n",
        "import pandas as pd\n",
        "import numpy as np\n",
        "import warnings\n",
        "import json\n",
        "warnings.filterwarnings(\"ignore\", category=ImportWarning)"
      ]
    },
    {
      "cell_type": "code",
      "source": [
        "# Sparse matrix\n",
        "matrix = mmread('/content/drive/MyDrive/HuLab/matrix.mtx').tocsr()\n",
        "\n",
        "# Gene and cell barcodes\n",
        "genes = pd.read_csv('/content/drive/MyDrive/HuLab/genes.tsv', header=None, sep=\"\\t\")\n",
        "barcodes = pd.read_csv('/content/drive/MyDrive/HuLab/barcodes.tsv', header=None, sep=\"\\t\")\n",
        "\n",
        "print(matrix.shape) # currently prints genes x cells but we want the transpose"
      ],
      "metadata": {
        "colab": {
          "base_uri": "https://localhost:8080/"
        },
        "id": "JMCNhkRIM8lW",
        "outputId": "ec2d934d-970b-4979-e9ad-faf945bbb29a"
      },
      "execution_count": 4,
      "outputs": [
        {
          "output_type": "stream",
          "name": "stdout",
          "text": [
            "(58892, 236363)\n"
          ]
        }
      ]
    },
    {
      "cell_type": "code",
      "source": [
        "matrix = matrix.T\n",
        "\n",
        "print(matrix.shape)\n",
        "print(genes.shape)\n",
        "print(barcodes.shape)"
      ],
      "metadata": {
        "colab": {
          "base_uri": "https://localhost:8080/"
        },
        "id": "AHD2mV2AM_SW",
        "outputId": "07560b3f-9484-4f59-cd99-5030d7abd167"
      },
      "execution_count": 5,
      "outputs": [
        {
          "output_type": "stream",
          "name": "stdout",
          "text": [
            "(236363, 58892)\n",
            "(58892, 2)\n",
            "(236363, 1)\n"
          ]
        }
      ]
    },
    {
      "cell_type": "code",
      "source": [
        "genes = genes[0]\n",
        "barcodes = barcodes[0]\n",
        "\n",
        "print(type(genes))\n",
        "print(type(barcodes))"
      ],
      "metadata": {
        "colab": {
          "base_uri": "https://localhost:8080/"
        },
        "id": "38rCALKYNAKL",
        "outputId": "320480dc-8793-4174-c964-13e18d038874"
      },
      "execution_count": 6,
      "outputs": [
        {
          "output_type": "stream",
          "name": "stdout",
          "text": [
            "<class 'pandas.core.series.Series'>\n",
            "<class 'pandas.core.series.Series'>\n"
          ]
        }
      ]
    },
    {
      "cell_type": "code",
      "source": [
        "adata = sc.AnnData(X = matrix)\n",
        "\n",
        "# Assign gene symbols and barcodes to AnnData\n",
        "adata.var[\"gene_symbols\"] = genes.values  # Extracted gene names\n",
        "adata.obs[\"barcodes\"] = barcodes.values   # Extracted barcodes"
      ],
      "metadata": {
        "id": "DMDVYqa6NA0O"
      },
      "execution_count": 7,
      "outputs": []
    },
    {
      "cell_type": "code",
      "source": [
        "print(adata.shape)  # Should be (236363, 58892)\n",
        "print(adata.var.head())\n",
        "print(adata.obs.head())"
      ],
      "metadata": {
        "colab": {
          "base_uri": "https://localhost:8080/"
        },
        "id": "0fHhWtE_NBz4",
        "outputId": "feefbde0-d806-4e0e-965f-f10d58625718"
      },
      "execution_count": 8,
      "outputs": [
        {
          "output_type": "stream",
          "name": "stdout",
          "text": [
            "(236363, 58892)\n",
            "   gene_symbols\n",
            "0  RP11-34P13-3\n",
            "1       FAM138A\n",
            "2         OR4F5\n",
            "3  RP11-34P13-7\n",
            "4  RP11-34P13-8\n",
            "                           barcodes\n",
            "0  Savas_AAACCTGCAAACAACA-1_TIL20_1\n",
            "1  Savas_AAACCTGCACTACAGT-1_TIL20_1\n",
            "2  Savas_AAACCTGGTGAGCGAT-1_TIL20_1\n",
            "3  Savas_AAACCTGTCAAAGACA-1_TIL20_1\n",
            "4  Savas_AAACGGGAGTGCCAGA-1_TIL20_1\n"
          ]
        }
      ]
    },
    {
      "cell_type": "code",
      "source": [
        "print(adata.obs[\"barcodes\"].nunique() == len(adata.obs[\"barcodes\"]))\n",
        "print(adata.var[\"gene_symbols\"].nunique() == len(adata.var[\"gene_symbols\"]))"
      ],
      "metadata": {
        "colab": {
          "base_uri": "https://localhost:8080/"
        },
        "id": "bUq2SGtBNDAO",
        "outputId": "0169d7ba-6c79-43c0-ea67-67f6cb162e4f"
      },
      "execution_count": 9,
      "outputs": [
        {
          "output_type": "stream",
          "name": "stdout",
          "text": [
            "True\n",
            "True\n"
          ]
        }
      ]
    },
    {
      "cell_type": "code",
      "source": [
        "# Save the anndata\n",
        "adata.write('processed_anndata_06-26.h5ad')"
      ],
      "metadata": {
        "id": "jO1jEBVaNEsH"
      },
      "execution_count": null,
      "outputs": []
    },
    {
      "cell_type": "markdown",
      "source": [
        "# Installing dependencies and setting up the data for training"
      ],
      "metadata": {
        "id": "31p1BVh8MsxW"
      }
    },
    {
      "cell_type": "code",
      "source": [
        "# Specifically for Google Colab, install dependencies and download data\n",
        "\n",
        "import os\n",
        "import sys\n",
        "%load_ext autoreload\n",
        "%autoreload 2\n",
        "\n",
        "if \"google.colab\" in sys.modules:\n",
        "    print(\"Running on Google Colab\")\n",
        "    print(\"Installing dependencies...\")\n",
        "    !pip install -U scgpt \"torch<=2.2.2\" \"numpy<2\" \"umap-learn<0.5.7\"\n",
        "    # the optional dependency of flash-attion is skipped on colab\n",
        "    !pip install wandb louvain\n",
        "\n",
        "    # NOTE: MAY NEED TO RESTART RUNTIME AFTER THE INSTALLATION\n",
        "\n",
        "    print(\"Downloading data and model ckpt...\")\n",
        "    !pip install -q -U gdown\n",
        "    import gdown\n",
        "\n",
        "    data_dir = \"../../data\"\n",
        "    if not os.path.exists(data_dir):\n",
        "        os.mkdir(data_dir)\n",
        "    if not os.path.exists(os.path.join(data_dir, \"Kim2020_Lung.h5ad\")):\n",
        "        !gdown https://drive.google.com/uc?id=1z_0vWYMhRuRiD1EyhuFtY9ReIR0msWaL -O $data_dir/\n",
        "    if not os.path.exists(os.path.join(data_dir, \"covid_subsampled.h5ad\")):\n",
        "        !gdown https://drive.google.com/uc?id=1eD9LbxNJ35YUde3VtdVcjkwm-f4iyJ6x -O $data_dir/\n",
        "    if not os.path.exists(os.path.join(data_dir, \"ms\")):\n",
        "        gdown.download_folder(\n",
        "            \"https://drive.google.com/drive/folders/1Qd42YNabzyr2pWt9xoY4cVMTAxsNBt4v\",\n",
        "            output=os.path.join(data_dir, \"ms\"),\n",
        "        )\n",
        "\n",
        "    print(\"Downloading model ckpt...\")\n",
        "    model_dir = \"../../save/scGPT_human\"\n",
        "    if not os.path.exists(model_dir):\n",
        "        !mkdir -p $model_dir\n",
        "        gdown.download_folder(\n",
        "            #\"https://drive.google.com/drive/folders/1oWh_-ZRdhtoGQ2Fw24HP41FgLoomVo-y\",\n",
        "            \"https://drive.google.com/drive/folders/1oWh_-ZRdhtoGQ2Fw24HP41FgLoomVo-y?usp=sharing\",\n",
        "            output=model_dir,\n",
        "        )"
      ],
      "metadata": {
        "colab": {
          "base_uri": "https://localhost:8080/"
        },
        "id": "EZknVaEXLV6D",
        "outputId": "7df61077-dd45-4fae-f9ff-fc9a533a5dca"
      },
      "execution_count": 1,
      "outputs": [
        {
          "output_type": "stream",
          "name": "stdout",
          "text": [
            "Running on Google Colab\n",
            "Installing dependencies...\n",
            "Requirement already satisfied: scgpt in /usr/local/lib/python3.11/dist-packages (0.2.4)\n",
            "Requirement already satisfied: torch<=2.2.2 in /usr/local/lib/python3.11/dist-packages (2.2.2)\n",
            "Requirement already satisfied: numpy<2 in /usr/local/lib/python3.11/dist-packages (1.26.4)\n",
            "Requirement already satisfied: umap-learn<0.5.7 in /usr/local/lib/python3.11/dist-packages (0.5.6)\n",
            "Requirement already satisfied: cell-gears<0.0.3 in /usr/local/lib/python3.11/dist-packages (from scgpt) (0.0.2)\n",
            "Requirement already satisfied: datasets<3.0.0,>=2.3.0 in /usr/local/lib/python3.11/dist-packages (from scgpt) (2.14.4)\n",
            "Requirement already satisfied: leidenalg>=0.8.10 in /usr/local/lib/python3.11/dist-packages (from scgpt) (0.10.2)\n",
            "Requirement already satisfied: numba>=0.55.1 in /usr/local/lib/python3.11/dist-packages (from scgpt) (0.60.0)\n",
            "Requirement already satisfied: orbax<0.1.8 in /usr/local/lib/python3.11/dist-packages (from scgpt) (0.1.7)\n",
            "Requirement already satisfied: pandas>=1.3.5 in /usr/local/lib/python3.11/dist-packages (from scgpt) (2.2.2)\n",
            "Requirement already satisfied: scanpy<2.0.0,>=1.9.1 in /usr/local/lib/python3.11/dist-packages (from scgpt) (1.11.3)\n",
            "Requirement already satisfied: scib<2.0.0,>=1.0.3 in /usr/local/lib/python3.11/dist-packages (from scgpt) (1.1.7)\n",
            "Requirement already satisfied: scikit-misc>=0.1.4 in /usr/local/lib/python3.11/dist-packages (from scgpt) (0.5.1)\n",
            "Requirement already satisfied: scvi-tools<1.0,>=0.16.0 in /usr/local/lib/python3.11/dist-packages (from scgpt) (0.20.3)\n",
            "Requirement already satisfied: torchtext in /usr/local/lib/python3.11/dist-packages (from scgpt) (0.17.2)\n",
            "Requirement already satisfied: typing-extensions<5.0.0,>=4.2.0 in /usr/local/lib/python3.11/dist-packages (from scgpt) (4.14.0)\n",
            "Requirement already satisfied: filelock in /usr/local/lib/python3.11/dist-packages (from torch<=2.2.2) (3.18.0)\n",
            "Requirement already satisfied: sympy in /usr/local/lib/python3.11/dist-packages (from torch<=2.2.2) (1.13.1)\n",
            "Requirement already satisfied: networkx in /usr/local/lib/python3.11/dist-packages (from torch<=2.2.2) (3.5)\n",
            "Requirement already satisfied: jinja2 in /usr/local/lib/python3.11/dist-packages (from torch<=2.2.2) (3.1.6)\n",
            "Requirement already satisfied: fsspec in /usr/local/lib/python3.11/dist-packages (from torch<=2.2.2) (2025.3.2)\n",
            "Requirement already satisfied: nvidia-cuda-nvrtc-cu12==12.1.105 in /usr/local/lib/python3.11/dist-packages (from torch<=2.2.2) (12.1.105)\n",
            "Requirement already satisfied: nvidia-cuda-runtime-cu12==12.1.105 in /usr/local/lib/python3.11/dist-packages (from torch<=2.2.2) (12.1.105)\n",
            "Requirement already satisfied: nvidia-cuda-cupti-cu12==12.1.105 in /usr/local/lib/python3.11/dist-packages (from torch<=2.2.2) (12.1.105)\n",
            "Requirement already satisfied: nvidia-cudnn-cu12==8.9.2.26 in /usr/local/lib/python3.11/dist-packages (from torch<=2.2.2) (8.9.2.26)\n",
            "Requirement already satisfied: nvidia-cublas-cu12==12.1.3.1 in /usr/local/lib/python3.11/dist-packages (from torch<=2.2.2) (12.1.3.1)\n",
            "Requirement already satisfied: nvidia-cufft-cu12==11.0.2.54 in /usr/local/lib/python3.11/dist-packages (from torch<=2.2.2) (11.0.2.54)\n",
            "Requirement already satisfied: nvidia-curand-cu12==10.3.2.106 in /usr/local/lib/python3.11/dist-packages (from torch<=2.2.2) (10.3.2.106)\n",
            "Requirement already satisfied: nvidia-cusolver-cu12==11.4.5.107 in /usr/local/lib/python3.11/dist-packages (from torch<=2.2.2) (11.4.5.107)\n",
            "Requirement already satisfied: nvidia-cusparse-cu12==12.1.0.106 in /usr/local/lib/python3.11/dist-packages (from torch<=2.2.2) (12.1.0.106)\n",
            "Requirement already satisfied: nvidia-nccl-cu12==2.19.3 in /usr/local/lib/python3.11/dist-packages (from torch<=2.2.2) (2.19.3)\n",
            "Requirement already satisfied: nvidia-nvtx-cu12==12.1.105 in /usr/local/lib/python3.11/dist-packages (from torch<=2.2.2) (12.1.105)\n",
            "Requirement already satisfied: triton==2.2.0 in /usr/local/lib/python3.11/dist-packages (from torch<=2.2.2) (2.2.0)\n",
            "Requirement already satisfied: nvidia-nvjitlink-cu12 in /usr/local/lib/python3.11/dist-packages (from nvidia-cusolver-cu12==11.4.5.107->torch<=2.2.2) (12.5.82)\n",
            "Requirement already satisfied: scipy>=1.3.1 in /usr/local/lib/python3.11/dist-packages (from umap-learn<0.5.7) (1.15.3)\n",
            "Requirement already satisfied: scikit-learn>=0.22 in /usr/local/lib/python3.11/dist-packages (from umap-learn<0.5.7) (1.6.1)\n",
            "Requirement already satisfied: pynndescent>=0.5 in /usr/local/lib/python3.11/dist-packages (from umap-learn<0.5.7) (0.5.13)\n",
            "Requirement already satisfied: tqdm in /usr/local/lib/python3.11/dist-packages (from umap-learn<0.5.7) (4.67.1)\n",
            "Requirement already satisfied: dcor in /usr/local/lib/python3.11/dist-packages (from cell-gears<0.0.3->scgpt) (0.6)\n",
            "Requirement already satisfied: pyarrow>=8.0.0 in /usr/local/lib/python3.11/dist-packages (from datasets<3.0.0,>=2.3.0->scgpt) (18.1.0)\n",
            "Requirement already satisfied: dill<0.3.8,>=0.3.0 in /usr/local/lib/python3.11/dist-packages (from datasets<3.0.0,>=2.3.0->scgpt) (0.3.7)\n",
            "Requirement already satisfied: requests>=2.19.0 in /usr/local/lib/python3.11/dist-packages (from datasets<3.0.0,>=2.3.0->scgpt) (2.32.3)\n",
            "Requirement already satisfied: xxhash in /usr/local/lib/python3.11/dist-packages (from datasets<3.0.0,>=2.3.0->scgpt) (3.5.0)\n",
            "Requirement already satisfied: multiprocess in /usr/local/lib/python3.11/dist-packages (from datasets<3.0.0,>=2.3.0->scgpt) (0.70.15)\n",
            "Requirement already satisfied: aiohttp in /usr/local/lib/python3.11/dist-packages (from datasets<3.0.0,>=2.3.0->scgpt) (3.11.15)\n",
            "Requirement already satisfied: huggingface-hub<1.0.0,>=0.14.0 in /usr/local/lib/python3.11/dist-packages (from datasets<3.0.0,>=2.3.0->scgpt) (0.33.2)\n",
            "Requirement already satisfied: packaging in /usr/local/lib/python3.11/dist-packages (from datasets<3.0.0,>=2.3.0->scgpt) (24.2)\n",
            "Requirement already satisfied: pyyaml>=5.1 in /usr/local/lib/python3.11/dist-packages (from datasets<3.0.0,>=2.3.0->scgpt) (6.0.2)\n",
            "Requirement already satisfied: igraph<0.12,>=0.10.0 in /usr/local/lib/python3.11/dist-packages (from leidenalg>=0.8.10->scgpt) (0.11.9)\n",
            "Requirement already satisfied: llvmlite<0.44,>=0.43.0dev0 in /usr/local/lib/python3.11/dist-packages (from numba>=0.55.1->scgpt) (0.43.0)\n",
            "Requirement already satisfied: absl-py in /usr/local/lib/python3.11/dist-packages (from orbax<0.1.8->scgpt) (1.4.0)\n",
            "Requirement already satisfied: cached_property in /usr/local/lib/python3.11/dist-packages (from orbax<0.1.8->scgpt) (2.0.1)\n",
            "Requirement already satisfied: importlib_resources in /usr/local/lib/python3.11/dist-packages (from orbax<0.1.8->scgpt) (6.5.2)\n",
            "Requirement already satisfied: msgpack in /usr/local/lib/python3.11/dist-packages (from orbax<0.1.8->scgpt) (1.1.1)\n",
            "Requirement already satisfied: etils in /usr/local/lib/python3.11/dist-packages (from orbax<0.1.8->scgpt) (1.12.2)\n",
            "Requirement already satisfied: jax>=0.4.6 in /usr/local/lib/python3.11/dist-packages (from orbax<0.1.8->scgpt) (0.5.2)\n",
            "Requirement already satisfied: jaxlib in /usr/local/lib/python3.11/dist-packages (from orbax<0.1.8->scgpt) (0.5.1)\n",
            "Requirement already satisfied: tensorstore>=0.1.20 in /usr/local/lib/python3.11/dist-packages (from orbax<0.1.8->scgpt) (0.1.74)\n",
            "Requirement already satisfied: nest_asyncio in /usr/local/lib/python3.11/dist-packages (from orbax<0.1.8->scgpt) (1.6.0)\n",
            "Requirement already satisfied: python-dateutil>=2.8.2 in /usr/local/lib/python3.11/dist-packages (from pandas>=1.3.5->scgpt) (2.9.0.post0)\n",
            "Requirement already satisfied: pytz>=2020.1 in /usr/local/lib/python3.11/dist-packages (from pandas>=1.3.5->scgpt) (2025.2)\n",
            "Requirement already satisfied: tzdata>=2022.7 in /usr/local/lib/python3.11/dist-packages (from pandas>=1.3.5->scgpt) (2025.2)\n",
            "Requirement already satisfied: joblib>=0.11 in /usr/local/lib/python3.11/dist-packages (from pynndescent>=0.5->umap-learn<0.5.7) (1.5.1)\n",
            "Requirement already satisfied: anndata>=0.8 in /usr/local/lib/python3.11/dist-packages (from scanpy<2.0.0,>=1.9.1->scgpt) (0.11.4)\n",
            "Requirement already satisfied: h5py>=3.7.0 in /usr/local/lib/python3.11/dist-packages (from scanpy<2.0.0,>=1.9.1->scgpt) (3.14.0)\n",
            "Requirement already satisfied: legacy-api-wrap>=1.4.1 in /usr/local/lib/python3.11/dist-packages (from scanpy<2.0.0,>=1.9.1->scgpt) (1.4.1)\n",
            "Requirement already satisfied: matplotlib>=3.7.5 in /usr/local/lib/python3.11/dist-packages (from scanpy<2.0.0,>=1.9.1->scgpt) (3.10.0)\n",
            "Requirement already satisfied: natsort in /usr/local/lib/python3.11/dist-packages (from scanpy<2.0.0,>=1.9.1->scgpt) (8.4.0)\n",
            "Requirement already satisfied: patsy!=1.0.0 in /usr/local/lib/python3.11/dist-packages (from scanpy<2.0.0,>=1.9.1->scgpt) (1.0.1)\n",
            "Requirement already satisfied: seaborn>=0.13.2 in /usr/local/lib/python3.11/dist-packages (from scanpy<2.0.0,>=1.9.1->scgpt) (0.13.2)\n",
            "Requirement already satisfied: session-info2 in /usr/local/lib/python3.11/dist-packages (from scanpy<2.0.0,>=1.9.1->scgpt) (0.1.2)\n",
            "Requirement already satisfied: statsmodels>=0.14.4 in /usr/local/lib/python3.11/dist-packages (from scanpy<2.0.0,>=1.9.1->scgpt) (0.14.4)\n",
            "Requirement already satisfied: pydot in /usr/local/lib/python3.11/dist-packages (from scib<2.0.0,>=1.0.3->scgpt) (3.0.4)\n",
            "Requirement already satisfied: deprecated in /usr/local/lib/python3.11/dist-packages (from scib<2.0.0,>=1.0.3->scgpt) (1.2.18)\n",
            "Requirement already satisfied: threadpoolctl>=3.1.0 in /usr/local/lib/python3.11/dist-packages (from scikit-learn>=0.22->umap-learn<0.5.7) (3.6.0)\n",
            "Requirement already satisfied: chex in /usr/local/lib/python3.11/dist-packages (from scvi-tools<1.0,>=0.16.0->scgpt) (0.1.89)\n",
            "Requirement already satisfied: docrep>=0.3.2 in /usr/local/lib/python3.11/dist-packages (from scvi-tools<1.0,>=0.16.0->scgpt) (0.3.2)\n",
            "Requirement already satisfied: flax in /usr/local/lib/python3.11/dist-packages (from scvi-tools<1.0,>=0.16.0->scgpt) (0.10.6)\n",
            "Requirement already satisfied: ml-collections>=0.1.1 in /usr/local/lib/python3.11/dist-packages (from scvi-tools<1.0,>=0.16.0->scgpt) (1.1.0)\n",
            "Requirement already satisfied: mudata>=0.1.2 in /usr/local/lib/python3.11/dist-packages (from scvi-tools<1.0,>=0.16.0->scgpt) (0.3.2)\n",
            "Requirement already satisfied: numpyro in /usr/local/lib/python3.11/dist-packages (from scvi-tools<1.0,>=0.16.0->scgpt) (0.18.0)\n",
            "Requirement already satisfied: openpyxl>=3.0 in /usr/local/lib/python3.11/dist-packages (from scvi-tools<1.0,>=0.16.0->scgpt) (3.1.5)\n",
            "Requirement already satisfied: optax in /usr/local/lib/python3.11/dist-packages (from scvi-tools<1.0,>=0.16.0->scgpt) (0.2.5)\n",
            "Requirement already satisfied: pyro-ppl>=1.6.0 in /usr/local/lib/python3.11/dist-packages (from scvi-tools<1.0,>=0.16.0->scgpt) (1.9.1)\n",
            "Requirement already satisfied: pytorch-lightning<1.10.0,>=1.9.0 in /usr/local/lib/python3.11/dist-packages (from scvi-tools<1.0,>=0.16.0->scgpt) (1.9.5)\n",
            "Requirement already satisfied: rich>=12.0.0 in /usr/local/lib/python3.11/dist-packages (from scvi-tools<1.0,>=0.16.0->scgpt) (13.9.4)\n",
            "Requirement already satisfied: torchmetrics>=0.11.0 in /usr/local/lib/python3.11/dist-packages (from scvi-tools<1.0,>=0.16.0->scgpt) (1.7.4)\n",
            "Requirement already satisfied: MarkupSafe>=2.0 in /usr/local/lib/python3.11/dist-packages (from jinja2->torch<=2.2.2) (3.0.2)\n",
            "Requirement already satisfied: mpmath<1.4,>=1.1.0 in /usr/local/lib/python3.11/dist-packages (from sympy->torch<=2.2.2) (1.3.0)\n",
            "Requirement already satisfied: array-api-compat!=1.5,>1.4 in /usr/local/lib/python3.11/dist-packages (from anndata>=0.8->scanpy<2.0.0,>=1.9.1->scgpt) (1.12.0)\n",
            "Requirement already satisfied: six in /usr/local/lib/python3.11/dist-packages (from docrep>=0.3.2->scvi-tools<1.0,>=0.16.0->scgpt) (1.17.0)\n",
            "Requirement already satisfied: aiohappyeyeballs>=2.3.0 in /usr/local/lib/python3.11/dist-packages (from aiohttp->datasets<3.0.0,>=2.3.0->scgpt) (2.6.1)\n",
            "Requirement already satisfied: aiosignal>=1.1.2 in /usr/local/lib/python3.11/dist-packages (from aiohttp->datasets<3.0.0,>=2.3.0->scgpt) (1.3.2)\n",
            "Requirement already satisfied: attrs>=17.3.0 in /usr/local/lib/python3.11/dist-packages (from aiohttp->datasets<3.0.0,>=2.3.0->scgpt) (25.3.0)\n",
            "Requirement already satisfied: frozenlist>=1.1.1 in /usr/local/lib/python3.11/dist-packages (from aiohttp->datasets<3.0.0,>=2.3.0->scgpt) (1.7.0)\n",
            "Requirement already satisfied: multidict<7.0,>=4.5 in /usr/local/lib/python3.11/dist-packages (from aiohttp->datasets<3.0.0,>=2.3.0->scgpt) (6.6.3)\n",
            "Requirement already satisfied: propcache>=0.2.0 in /usr/local/lib/python3.11/dist-packages (from aiohttp->datasets<3.0.0,>=2.3.0->scgpt) (0.3.2)\n",
            "Requirement already satisfied: yarl<2.0,>=1.17.0 in /usr/local/lib/python3.11/dist-packages (from aiohttp->datasets<3.0.0,>=2.3.0->scgpt) (1.20.1)\n",
            "Requirement already satisfied: hf-xet<2.0.0,>=1.1.2 in /usr/local/lib/python3.11/dist-packages (from huggingface-hub<1.0.0,>=0.14.0->datasets<3.0.0,>=2.3.0->scgpt) (1.1.5)\n",
            "Requirement already satisfied: texttable>=1.6.2 in /usr/local/lib/python3.11/dist-packages (from igraph<0.12,>=0.10.0->leidenalg>=0.8.10->scgpt) (1.7.0)\n",
            "Requirement already satisfied: ml_dtypes>=0.4.0 in /usr/local/lib/python3.11/dist-packages (from jax>=0.4.6->orbax<0.1.8->scgpt) (0.4.1)\n",
            "Requirement already satisfied: opt_einsum in /usr/local/lib/python3.11/dist-packages (from jax>=0.4.6->orbax<0.1.8->scgpt) (3.4.0)\n",
            "Requirement already satisfied: contourpy>=1.0.1 in /usr/local/lib/python3.11/dist-packages (from matplotlib>=3.7.5->scanpy<2.0.0,>=1.9.1->scgpt) (1.3.2)\n",
            "Requirement already satisfied: cycler>=0.10 in /usr/local/lib/python3.11/dist-packages (from matplotlib>=3.7.5->scanpy<2.0.0,>=1.9.1->scgpt) (0.12.1)\n",
            "Requirement already satisfied: fonttools>=4.22.0 in /usr/local/lib/python3.11/dist-packages (from matplotlib>=3.7.5->scanpy<2.0.0,>=1.9.1->scgpt) (4.58.4)\n",
            "Requirement already satisfied: kiwisolver>=1.3.1 in /usr/local/lib/python3.11/dist-packages (from matplotlib>=3.7.5->scanpy<2.0.0,>=1.9.1->scgpt) (1.4.8)\n",
            "Requirement already satisfied: pillow>=8 in /usr/local/lib/python3.11/dist-packages (from matplotlib>=3.7.5->scanpy<2.0.0,>=1.9.1->scgpt) (11.2.1)\n",
            "Requirement already satisfied: pyparsing>=2.3.1 in /usr/local/lib/python3.11/dist-packages (from matplotlib>=3.7.5->scanpy<2.0.0,>=1.9.1->scgpt) (3.2.3)\n",
            "Requirement already satisfied: et-xmlfile in /usr/local/lib/python3.11/dist-packages (from openpyxl>=3.0->scvi-tools<1.0,>=0.16.0->scgpt) (2.0.0)\n",
            "Requirement already satisfied: pyro-api>=0.1.1 in /usr/local/lib/python3.11/dist-packages (from pyro-ppl>=1.6.0->scvi-tools<1.0,>=0.16.0->scgpt) (0.1.2)\n",
            "Requirement already satisfied: lightning-utilities>=0.6.0.post0 in /usr/local/lib/python3.11/dist-packages (from pytorch-lightning<1.10.0,>=1.9.0->scvi-tools<1.0,>=0.16.0->scgpt) (0.14.3)\n",
            "Requirement already satisfied: charset-normalizer<4,>=2 in /usr/local/lib/python3.11/dist-packages (from requests>=2.19.0->datasets<3.0.0,>=2.3.0->scgpt) (3.4.2)\n",
            "Requirement already satisfied: idna<4,>=2.5 in /usr/local/lib/python3.11/dist-packages (from requests>=2.19.0->datasets<3.0.0,>=2.3.0->scgpt) (3.10)\n",
            "Requirement already satisfied: urllib3<3,>=1.21.1 in /usr/local/lib/python3.11/dist-packages (from requests>=2.19.0->datasets<3.0.0,>=2.3.0->scgpt) (2.4.0)\n",
            "Requirement already satisfied: certifi>=2017.4.17 in /usr/local/lib/python3.11/dist-packages (from requests>=2.19.0->datasets<3.0.0,>=2.3.0->scgpt) (2025.6.15)\n",
            "Requirement already satisfied: markdown-it-py>=2.2.0 in /usr/local/lib/python3.11/dist-packages (from rich>=12.0.0->scvi-tools<1.0,>=0.16.0->scgpt) (3.0.0)\n",
            "Requirement already satisfied: pygments<3.0.0,>=2.13.0 in /usr/local/lib/python3.11/dist-packages (from rich>=12.0.0->scvi-tools<1.0,>=0.16.0->scgpt) (2.19.2)\n",
            "Requirement already satisfied: toolz>=0.9.0 in /usr/local/lib/python3.11/dist-packages (from chex->scvi-tools<1.0,>=0.16.0->scgpt) (0.12.1)\n",
            "Requirement already satisfied: wrapt<2,>=1.10 in /usr/local/lib/python3.11/dist-packages (from deprecated->scib<2.0.0,>=1.0.3->scgpt) (1.17.2)\n",
            "Requirement already satisfied: orbax-checkpoint in /usr/local/lib/python3.11/dist-packages (from flax->scvi-tools<1.0,>=0.16.0->scgpt) (0.11.16)\n",
            "Requirement already satisfied: treescope>=0.1.7 in /usr/local/lib/python3.11/dist-packages (from flax->scvi-tools<1.0,>=0.16.0->scgpt) (0.1.9)\n",
            "Requirement already satisfied: multipledispatch in /usr/local/lib/python3.11/dist-packages (from numpyro->scvi-tools<1.0,>=0.16.0->scgpt) (1.0.0)\n",
            "Requirement already satisfied: setuptools in /usr/local/lib/python3.11/dist-packages (from lightning-utilities>=0.6.0.post0->pytorch-lightning<1.10.0,>=1.9.0->scvi-tools<1.0,>=0.16.0->scgpt) (75.2.0)\n",
            "Requirement already satisfied: mdurl~=0.1 in /usr/local/lib/python3.11/dist-packages (from markdown-it-py>=2.2.0->rich>=12.0.0->scvi-tools<1.0,>=0.16.0->scgpt) (0.1.2)\n",
            "Requirement already satisfied: protobuf in /usr/local/lib/python3.11/dist-packages (from orbax-checkpoint->flax->scvi-tools<1.0,>=0.16.0->scgpt) (5.29.5)\n",
            "Requirement already satisfied: humanize in /usr/local/lib/python3.11/dist-packages (from orbax-checkpoint->flax->scvi-tools<1.0,>=0.16.0->scgpt) (4.12.3)\n",
            "Requirement already satisfied: simplejson>=3.16.0 in /usr/local/lib/python3.11/dist-packages (from orbax-checkpoint->flax->scvi-tools<1.0,>=0.16.0->scgpt) (3.20.1)\n",
            "Requirement already satisfied: zipp in /usr/local/lib/python3.11/dist-packages (from etils[epath,epy]->orbax-checkpoint->flax->scvi-tools<1.0,>=0.16.0->scgpt) (3.23.0)\n",
            "Requirement already satisfied: wandb in /usr/local/lib/python3.11/dist-packages (0.21.0)\n",
            "Requirement already satisfied: louvain in /usr/local/lib/python3.11/dist-packages (0.8.2)\n",
            "Requirement already satisfied: click!=8.0.0,>=7.1 in /usr/local/lib/python3.11/dist-packages (from wandb) (8.2.1)\n",
            "Requirement already satisfied: gitpython!=3.1.29,>=1.0.0 in /usr/local/lib/python3.11/dist-packages (from wandb) (3.1.44)\n",
            "Requirement already satisfied: packaging in /usr/local/lib/python3.11/dist-packages (from wandb) (24.2)\n",
            "Requirement already satisfied: platformdirs in /usr/local/lib/python3.11/dist-packages (from wandb) (4.3.8)\n",
            "Requirement already satisfied: protobuf!=4.21.0,!=5.28.0,<7,>=3.19.0 in /usr/local/lib/python3.11/dist-packages (from wandb) (5.29.5)\n",
            "Requirement already satisfied: pydantic<3 in /usr/local/lib/python3.11/dist-packages (from wandb) (2.11.7)\n",
            "Requirement already satisfied: pyyaml in /usr/local/lib/python3.11/dist-packages (from wandb) (6.0.2)\n",
            "Requirement already satisfied: requests<3,>=2.0.0 in /usr/local/lib/python3.11/dist-packages (from wandb) (2.32.3)\n",
            "Requirement already satisfied: sentry-sdk>=2.0.0 in /usr/local/lib/python3.11/dist-packages (from wandb) (2.32.0)\n",
            "Requirement already satisfied: typing-extensions<5,>=4.8 in /usr/local/lib/python3.11/dist-packages (from wandb) (4.14.0)\n",
            "Requirement already satisfied: igraph<0.12,>=0.10.0 in /usr/local/lib/python3.11/dist-packages (from louvain) (0.11.9)\n",
            "Requirement already satisfied: gitdb<5,>=4.0.1 in /usr/local/lib/python3.11/dist-packages (from gitpython!=3.1.29,>=1.0.0->wandb) (4.0.12)\n",
            "Requirement already satisfied: texttable>=1.6.2 in /usr/local/lib/python3.11/dist-packages (from igraph<0.12,>=0.10.0->louvain) (1.7.0)\n",
            "Requirement already satisfied: annotated-types>=0.6.0 in /usr/local/lib/python3.11/dist-packages (from pydantic<3->wandb) (0.7.0)\n",
            "Requirement already satisfied: pydantic-core==2.33.2 in /usr/local/lib/python3.11/dist-packages (from pydantic<3->wandb) (2.33.2)\n",
            "Requirement already satisfied: typing-inspection>=0.4.0 in /usr/local/lib/python3.11/dist-packages (from pydantic<3->wandb) (0.4.1)\n",
            "Requirement already satisfied: charset-normalizer<4,>=2 in /usr/local/lib/python3.11/dist-packages (from requests<3,>=2.0.0->wandb) (3.4.2)\n",
            "Requirement already satisfied: idna<4,>=2.5 in /usr/local/lib/python3.11/dist-packages (from requests<3,>=2.0.0->wandb) (3.10)\n",
            "Requirement already satisfied: urllib3<3,>=1.21.1 in /usr/local/lib/python3.11/dist-packages (from requests<3,>=2.0.0->wandb) (2.4.0)\n",
            "Requirement already satisfied: certifi>=2017.4.17 in /usr/local/lib/python3.11/dist-packages (from requests<3,>=2.0.0->wandb) (2025.6.15)\n",
            "Requirement already satisfied: smmap<6,>=3.0.1 in /usr/local/lib/python3.11/dist-packages (from gitdb<5,>=4.0.1->gitpython!=3.1.29,>=1.0.0->wandb) (5.0.2)\n",
            "Downloading data and model ckpt...\n",
            "Downloading model ckpt...\n"
          ]
        }
      ]
    },
    {
      "cell_type": "code",
      "source": [
        "from pathlib import Path\n",
        "import warnings\n",
        "\n",
        "import scanpy as sc\n",
        "import scib\n",
        "import numpy as np\n",
        "import sys\n",
        "\n",
        "sys.path.insert(0, \"../\")\n",
        "\n",
        "import scgpt as scg\n",
        "import matplotlib.pyplot as plt\n",
        "import anndata\n",
        "\n",
        "plt.style.context('default')\n",
        "warnings.simplefilter(\"ignore\", ResourceWarning)\n",
        "\n",
        "#model_dir = Path(\"../../save/scGPT_human\")\n",
        "model_dir = Path(\"/content/drive/MyDrive/HuLab/scGPT_human_new\")"
      ],
      "metadata": {
        "colab": {
          "base_uri": "https://localhost:8080/"
        },
        "id": "O6OTFzd3LaZF",
        "outputId": "256fa5c3-25b5-40b3-cbd0-51be20d6fa21"
      },
      "execution_count": 10,
      "outputs": [
        {
          "output_type": "stream",
          "name": "stderr",
          "text": [
            "<frozen importlib._bootstrap>:1047: ImportWarning: _PyDriveImportHook.find_spec() not found; falling back to find_module()\n",
            "<frozen importlib._bootstrap>:1047: ImportWarning: _BokehImportHook.find_spec() not found; falling back to find_module()\n",
            "/usr/local/lib/python3.11/dist-packages/scgpt/model/model.py:21: UserWarning: flash_attn is not installed\n",
            "  warnings.warn(\"flash_attn is not installed\")\n",
            "/usr/local/lib/python3.11/dist-packages/scgpt/model/multiomic_model.py:19: UserWarning: flash_attn is not installed\n",
            "  warnings.warn(\"flash_attn is not installed\")\n",
            "<frozen importlib._bootstrap>:1047: ImportWarning: _PyDriveImportHook.find_spec() not found; falling back to find_module()\n",
            "<frozen importlib._bootstrap>:1047: ImportWarning: _BokehImportHook.find_spec() not found; falling back to find_module()\n",
            "<frozen importlib._bootstrap>:1047: ImportWarning: _PyDriveImportHook.find_spec() not found; falling back to find_module()\n",
            "<frozen importlib._bootstrap>:1047: ImportWarning: _BokehImportHook.find_spec() not found; falling back to find_module()\n"
          ]
        }
      ]
    },
    {
      "cell_type": "markdown",
      "source": [
        "# Prepare the dataset"
      ],
      "metadata": {
        "id": "Mo4KO5O8k_5G"
      }
    },
    {
      "cell_type": "code",
      "source": [
        "smaple_data_path = '/content/drive/MyDrive/HuLab/processed_anndata_06-26.h5ad'\n",
        "adata = sc.read_h5ad(smaple_data_path)\n",
        "\n",
        "gene_col = \"gene_symbols\"\n",
        "cell_type_key = \"barcodes\"\n",
        "batch_key = \"sample\"\n",
        "N_HVG = 3000"
      ],
      "metadata": {
        "id": "BhI5WQ-0LdnC"
      },
      "execution_count": 11,
      "outputs": []
    },
    {
      "cell_type": "markdown",
      "source": [
        "Remove unannotated cells:"
      ],
      "metadata": {
        "id": "92PsJfuAlFmn"
      }
    },
    {
      "cell_type": "code",
      "source": [
        "# Get the cell type labels as category codes\n",
        "celltype_id_labels = adata.obs[cell_type_key].astype(\"category\").cat.codes.values\n",
        "\n",
        "# Count the number of unannotated cells (codes == -1)\n",
        "num_unannotated = (celltype_id_labels < 0).sum()\n",
        "print(f\"Number of unannotated cells: {num_unannotated}\")\n",
        "\n",
        "# Count the number of annotated cells (codes >= 0)\n",
        "num_annotated = (celltype_id_labels >= 0).sum()\n",
        "print(f\"Number of annotated cells: {num_annotated}\")\n",
        "\n",
        "# Optional: remove unannotated cells if needed\n",
        "adata = adata[celltype_id_labels >= 0]\n"
      ],
      "metadata": {
        "colab": {
          "base_uri": "https://localhost:8080/"
        },
        "id": "T5tkTta0LfHe",
        "outputId": "32617708-2569-418d-dc86-5772d15f7075"
      },
      "execution_count": 12,
      "outputs": [
        {
          "output_type": "stream",
          "name": "stdout",
          "text": [
            "Number of unannotated cells: 0\n",
            "Number of annotated cells: 236363\n"
          ]
        }
      ]
    },
    {
      "cell_type": "markdown",
      "source": [
        "Update embedding dimension"
      ],
      "metadata": {
        "id": "myyoPO_GlKpK"
      }
    },
    {
      "cell_type": "code",
      "source": [
        "import json\n",
        "\n",
        "# Load the args.json file from Google Drive\n",
        "with open('/content/drive/MyDrive/HuLab/scGPT_human_new/args.json', 'r') as f:\n",
        "    args = json.load(f)\n",
        "\n",
        "# Change the embedding dimension\n",
        "args['embsize'] = 768\n",
        "args['d_hid'] = 768\n",
        "\n",
        "# Save the updated file BACK to Google Drive\n",
        "with open('/content/drive/MyDrive/HuLab/scGPT_human_new/args.json', 'w') as f:\n",
        "    json.dump(args, f, indent=4)\n",
        "\n",
        "print(\"Updated embsize to 768 in Google Drive.\")\n"
      ],
      "metadata": {
        "id": "wQOBoNColJ87"
      },
      "execution_count": null,
      "outputs": []
    },
    {
      "cell_type": "markdown",
      "source": [
        "# Generate the scGPT cell embeddings"
      ],
      "metadata": {
        "id": "4Niimzs4Lojc"
      }
    },
    {
      "cell_type": "code",
      "source": [
        "embed_adata = scg.tasks.embed_data(\n",
        "    adata,\n",
        "    model_dir,\n",
        "    gene_col=\"gene_symbols\",\n",
        "    batch_size=64,\n",
        ")"
      ],
      "metadata": {
        "colab": {
          "base_uri": "https://localhost:8080/"
        },
        "id": "aW21Aig9Lp8W",
        "outputId": "d4b4744e-38e9-4e39-dd11-60caf2a19858"
      },
      "execution_count": 13,
      "outputs": [
        {
          "output_type": "stream",
          "name": "stderr",
          "text": [
            "/usr/local/lib/python3.11/dist-packages/scgpt/tasks/cell_emb.py:212: ImplicitModificationWarning: Trying to modify attribute `.var` of view, initializing view as actual.\n",
            "  adata.var[\"id_in_vocab\"] = [\n"
          ]
        },
        {
          "output_type": "stream",
          "name": "stdout",
          "text": [
            "scGPT - INFO - match 30865/58892 genes in vocabulary of size 60697.\n"
          ]
        },
        {
          "output_type": "stream",
          "name": "stderr",
          "text": [
            "/usr/local/lib/python3.11/dist-packages/scgpt/model/model.py:77: UserWarning: flash-attn is not installed, using pytorch transformer instead. Set use_fast_transformer=False to avoid this warning. Installing flash-attn is highly recommended.\n",
            "  warnings.warn(\n",
            "<frozen importlib._bootstrap>:1047: ImportWarning: _PyDriveImportHook.find_spec() not found; falling back to find_module()\n",
            "<frozen importlib._bootstrap>:1047: ImportWarning: _BokehImportHook.find_spec() not found; falling back to find_module()\n",
            "Embedding cells:   0%|          | 0/3694 [00:00<?, ?it/s]<frozen importlib._bootstrap>:1047: ImportWarning: _PyDriveImportHook.find_spec() not found; falling back to find_module()\n",
            "<frozen importlib._bootstrap>:1047: ImportWarning: _BokehImportHook.find_spec() not found; falling back to find_module()\n",
            "<frozen importlib._bootstrap>:1047: ImportWarning: _PyDriveImportHook.find_spec() not found; falling back to find_module()\n",
            "<frozen importlib._bootstrap>:1047: ImportWarning: _PyDriveImportHook.find_spec() not found; falling back to find_module()\n",
            "<frozen importlib._bootstrap>:1047: ImportWarning: _PyDriveImportHook.find_spec() not found; falling back to find_module()\n",
            "<frozen importlib._bootstrap>:1047: ImportWarning: _PyDriveImportHook.find_spec() not found; falling back to find_module()\n",
            "<frozen importlib._bootstrap>:1047: ImportWarning: _PyDriveImportHook.find_spec() not found; falling back to find_module()\n",
            "<frozen importlib._bootstrap>:1047: ImportWarning: _PyDriveImportHook.find_spec() not found; falling back to find_module()\n",
            "<frozen importlib._bootstrap>:1047: ImportWarning: _PyDriveImportHook.find_spec() not found; falling back to find_module()\n",
            "<frozen importlib._bootstrap>:1047: ImportWarning: _PyDriveImportHook.find_spec() not found; falling back to find_module()\n",
            "<frozen importlib._bootstrap>:1047: ImportWarning: _PyDriveImportHook.find_spec() not found; falling back to find_module()\n",
            "<frozen importlib._bootstrap>:1047: ImportWarning: _PyDriveImportHook.find_spec() not found; falling back to find_module()\n",
            "<frozen importlib._bootstrap>:1047: ImportWarning: _BokehImportHook.find_spec() not found; falling back to find_module()\n",
            "<frozen importlib._bootstrap>:1047: ImportWarning: _BokehImportHook.find_spec() not found; falling back to find_module()\n",
            "<frozen importlib._bootstrap>:1047: ImportWarning: _BokehImportHook.find_spec() not found; falling back to find_module()\n",
            "<frozen importlib._bootstrap>:1047: ImportWarning: _BokehImportHook.find_spec() not found; falling back to find_module()\n",
            "<frozen importlib._bootstrap>:1047: ImportWarning: _BokehImportHook.find_spec() not found; falling back to find_module()\n",
            "<frozen importlib._bootstrap>:1047: ImportWarning: _BokehImportHook.find_spec() not found; falling back to find_module()\n",
            "<frozen importlib._bootstrap>:1047: ImportWarning: _BokehImportHook.find_spec() not found; falling back to find_module()\n",
            "<frozen importlib._bootstrap>:1047: ImportWarning: _BokehImportHook.find_spec() not found; falling back to find_module()\n",
            "<frozen importlib._bootstrap>:1047: ImportWarning: _BokehImportHook.find_spec() not found; falling back to find_module()\n",
            "<frozen importlib._bootstrap>:1047: ImportWarning: _BokehImportHook.find_spec() not found; falling back to find_module()\n",
            "<frozen importlib._bootstrap>:1047: ImportWarning: _PyDriveImportHook.find_spec() not found; falling back to find_module()\n",
            "<frozen importlib._bootstrap>:1047: ImportWarning: _BokehImportHook.find_spec() not found; falling back to find_module()\n",
            "<frozen importlib._bootstrap>:1047: ImportWarning: _PyDriveImportHook.find_spec() not found; falling back to find_module()\n",
            "<frozen importlib._bootstrap>:1047: ImportWarning: _BokehImportHook.find_spec() not found; falling back to find_module()\n",
            "Embedding cells: 100%|██████████| 3694/3694 [36:02<00:00,  1.71it/s]\n",
            "/usr/local/lib/python3.11/dist-packages/scgpt/tasks/cell_emb.py:279: ImplicitModificationWarning: Setting element `.obsm['X_scGPT']` of view, initializing view as actual.\n",
            "  adata.obsm[\"X_scGPT\"] = cell_embeddings\n"
          ]
        }
      ]
    },
    {
      "cell_type": "code",
      "source": [
        "# Inspect the shape of the AnnData object\n",
        "print(embed_adata.shape)\n",
        "print(embed_adata.obsm.keys())\n",
        "\n",
        "# Check the shape of the scGPT embedding matrix\n",
        "print(embed_adata.obsm['X_scGPT'].shape)"
      ],
      "metadata": {
        "colab": {
          "base_uri": "https://localhost:8080/"
        },
        "id": "uquK1tcoLq37",
        "outputId": "57aaec4f-4e85-41ff-927a-7898f2582fb0"
      },
      "execution_count": 14,
      "outputs": [
        {
          "output_type": "stream",
          "name": "stdout",
          "text": [
            "(236363, 30865)\n",
            "KeysView(AxisArrays with keys: X_scGPT)\n",
            "(236363, 768)\n"
          ]
        }
      ]
    },
    {
      "cell_type": "code",
      "source": [
        "# Extract scGPT embeddings and save them as a NumPy array\n",
        "embeddings = embed_adata.obsm[\"X_scGPT\"]\n",
        "np.save(\"cell_embeddings_HVG3000_768.npy\", embeddings)"
      ],
      "metadata": {
        "id": "4tcFREpvLrr5"
      },
      "execution_count": 15,
      "outputs": []
    },
    {
      "cell_type": "markdown",
      "source": [
        "# Concatenate scGPT and Mixedbread embeddings"
      ],
      "metadata": {
        "id": "-Bq4DrBgLTDh"
      }
    },
    {
      "cell_type": "code",
      "source": [
        "# Load the embeddings\n",
        "embeddings = np.load(\"cell_embeddings_HVG3000_768.npy\")\n",
        "embeddings_mxbai = np.load(\"embeddings_mxbai.npy\")\n",
        "\n",
        "# Check that both embeddings have the same shape\n",
        "if embeddings.shape != embeddings_mxbai.shape:\n",
        "    raise ValueError(f\"Shapes do not match: {embeddings.shape} vs {embeddings_mxbai.shape}\")\n",
        "\n",
        "# Perform concatenation\n",
        "combined_embeddings = np.concatenate((embeddings, embeddings_mxbai), axis=1)\n",
        "\n",
        "# Check the shape of the result\n",
        "print(combined_embeddings.shape)  # Expected shape: (236363, 1536)\n",
        "\n",
        "np.save(\"concat_emb_mxbai_scgpt_hvg.npy\", combined_embeddings)"
      ],
      "metadata": {
        "id": "p8PS_YxlKKUL"
      },
      "execution_count": null,
      "outputs": []
    },
    {
      "cell_type": "markdown",
      "source": [
        "# Convert `.npy` to `.feather`"
      ],
      "metadata": {
        "id": "TePecMcvL1dG"
      }
    },
    {
      "cell_type": "code",
      "source": [
        "import numpy as np\n",
        "import pyarrow.feather as feather\n",
        "import pandas as pd\n",
        "\n",
        "# Load the cell embeddings\n",
        "df_scgpt = pd.DataFrame(embeddings)\n",
        "df_mxbai = pd.DataFrame(embeddings_mxbai)\n",
        "\n",
        "feather_scgpt = \"/content/drive/MyDrive/HuLab/cell_emb_HVG3000_768.feather\"\n",
        "feather_mxbai = \"/content/drive/MyDrive/HuLab/embeddings_mxbai.feather\"\n",
        "\n",
        "feather.write_feather(df_scgpt, feather_scgpt)\n",
        "feather.write_feather(df_mxbai, feather_mxbai)\n",
        "\n",
        "print(f\"Saved embeddings to {feather_scgpt, feather_mxbai}\")"
      ],
      "metadata": {
        "id": "XZRya--xL58_"
      },
      "execution_count": null,
      "outputs": []
    },
    {
      "cell_type": "code",
      "source": [
        "# Load the concatenated cell embeddings\n",
        "embeddings = np.load('/content/drive/MyDrive/HuLab/Bassez/bassez_scgpt_mxbai_concat_768.npy')\n",
        "print(embeddings.shape)  # Check the shape of the embeddings\n",
        "\n",
        "\n",
        "\n",
        "df = pd.DataFrame(embeddings)\n",
        "\n",
        "feather_path = \"bassez_scgpt_mxbai_concat_768.feather\"\n",
        "feather.write_feather(df, feather_path)\n",
        "\n",
        "print(f\"Saved embeddings to {feather_path}\")"
      ],
      "metadata": {
        "id": "fMZ4gFmYL-bD"
      },
      "execution_count": null,
      "outputs": []
    }
  ]
}